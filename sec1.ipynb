{
 "cells": [
  {
   "cell_type": "markdown",
   "metadata": {},
   "source": [
    "# 準備運動\n"
   ]
  },
  {
   "cell_type": "code",
   "execution_count": null,
   "metadata": {},
   "outputs": [],
   "source": [
    "# 00\n",
    "s = \"stressed\"\n",
    "s[::-1]  # ストライド"
   ]
  },
  {
   "cell_type": "code",
   "execution_count": null,
   "metadata": {},
   "outputs": [
    {
     "data": {
      "text/plain": [
       "'パトカー'"
      ]
     },
     "execution_count": 7,
     "metadata": {},
     "output_type": "execute_result"
    }
   ],
   "source": [
    "# 01\n",
    "s = \"パタトクカシーー\"\n",
    "idxs = [0, 2, 4, 6]\n",
    "s[0:7:2]"
   ]
  },
  {
   "cell_type": "code",
   "execution_count": null,
   "metadata": {},
   "outputs": [
    {
     "data": {
      "text/plain": [
       "'パタトクカシーー'"
      ]
     },
     "execution_count": 5,
     "metadata": {},
     "output_type": "execute_result"
    }
   ],
   "source": [
    "# 02\n",
    "s1 = \"パトカー\"\n",
    "s2 = \"タクシー\"\n",
    "ret = \"\"\n",
    "\n",
    "for c1, c2 in zip(s1, s2):\n",
    "    ret += c1 + c2\n",
    "ret"
   ]
  },
  {
   "cell_type": "code",
   "execution_count": null,
   "metadata": {},
   "outputs": [
    {
     "data": {
      "text/plain": [
       "[3, 1, 4, 1, 5, 9, 2, 6, 5, 3, 5, 8, 9, 7, 9]"
      ]
     },
     "execution_count": 11,
     "metadata": {},
     "output_type": "execute_result"
    }
   ],
   "source": [
    "# 03\n",
    "s = \"Now I need a drink, alcoholic of course, after the heavy lectures involving quantum mechanics.\"\n",
    "word_list = s.split(\" \")\n",
    "for i in range(0, len(word_list)):\n",
    "    word_list[i] = word_list[i].rstrip(\",.\")  # 単語の末尾部分を除去\n",
    "word_list\n",
    "\n",
    "length_list = [len(w) for w in word_list]\n",
    "length_list"
   ]
  },
  {
   "cell_type": "code",
   "execution_count": null,
   "metadata": {},
   "outputs": [
    {
     "data": {
      "text/plain": [
       "{1: 'H',\n",
       " 2: 'He',\n",
       " 3: 'Li',\n",
       " 4: 'Be',\n",
       " 5: 'B',\n",
       " 6: 'C',\n",
       " 7: 'N',\n",
       " 8: 'O',\n",
       " 9: 'F',\n",
       " 10: 'Ne',\n",
       " 11: 'Na',\n",
       " 12: 'Mi',\n",
       " 13: 'Al',\n",
       " 14: 'Si',\n",
       " 15: 'P',\n",
       " 16: 'S',\n",
       " 17: 'Cl',\n",
       " 18: 'Ar',\n",
       " 19: 'K',\n",
       " 20: 'Ca'}"
      ]
     },
     "execution_count": 12,
     "metadata": {},
     "output_type": "execute_result"
    }
   ],
   "source": [
    "# 04\n",
    "s = \"Hi He Lied Because Boron Could Not Oxidize Fluorine. New Nations Might Also Sign Peace Security Clause. Arthur King Can.\"\n",
    "word_list = s.split(\" \")\n",
    "idxs = [0, 4, 5, 6, 7, 8, 14, 15, 18]\n",
    "ret = {}\n",
    "\n",
    "for i, w in enumerate(word_list):\n",
    "    if i in idxs:\n",
    "        ret[i + 1] = w[0:1]\n",
    "    else:\n",
    "        ret[i + 1] = w[0:2]\n",
    "ret"
   ]
  },
  {
   "cell_type": "code",
   "execution_count": 17,
   "metadata": {},
   "outputs": [
    {
     "data": {
      "text/plain": [
       "(['I ', ' a', 'am', 'm ', ' a', 'an', 'n ', ' N', 'NL', 'LP', 'Pe', 'er'],\n",
       " [['I', 'am'], ['am', 'an'], ['an', 'NLPer']])"
      ]
     },
     "execution_count": 17,
     "metadata": {},
     "output_type": "execute_result"
    }
   ],
   "source": [
    "# 05\n",
    "from collections.abc import Iterable\n",
    "\n",
    "\n",
    "def n_gram(iterable: Iterable, n) -> list[any]:\n",
    "    ret = []\n",
    "    for i in range(0, len(iterable) - n + 1, 1):\n",
    "        ret.append(iterable[i : i + n])\n",
    "    return ret\n",
    "\n",
    "\n",
    "s = \"I am an NLPer\"\n",
    "\n",
    "# 文字bi-gram\n",
    "char_bigrams = n_gram(s, 2)\n",
    "\n",
    "# 単語bi-gram\n",
    "word_list = s.split(\" \")\n",
    "word_bigrams = n_gram(word_list, 2)\n",
    "\n",
    "char_bigrams, word_bigrams"
   ]
  },
  {
   "cell_type": "code",
   "execution_count": 13,
   "metadata": {},
   "outputs": [
    {
     "name": "stdout",
     "output_type": "stream",
     "text": [
      "{'di', 'ag', 'pa', 'ap', 'is', 'gr', 'ar', 'ad', 'ph', 'ra', 'se'} {'ar', 'ap', 'ra', 'pa'} {'di', 'is', 'ad', 'se'}\n",
      "\"se\" in X: True\n",
      "\"se\" in Y: False\n"
     ]
    }
   ],
   "source": [
    "# 06\n",
    "from collections.abc import Iterable\n",
    "\n",
    "\n",
    "def n_gram(iterable: Iterable, n) -> list[any]:\n",
    "    ret = []\n",
    "    if len(iterable) < n:\n",
    "        return ret\n",
    "    for i in range(len(iterable) - n + 1):\n",
    "        ret.append(iterable[i : i + n])\n",
    "    return ret\n",
    "\n",
    "\n",
    "s1 = \"paraparaparadise\"\n",
    "s2 = \"paragraph\"\n",
    "\n",
    "X = set(n_gram(s1, 2))\n",
    "Y = set(n_gram(s2, 2))\n",
    "\n",
    "XY_union = X.union(Y)\n",
    "XY_cross = X.intersection(Y)\n",
    "XY_diff = X.difference(Y)\n",
    "\n",
    "print(XY_union, XY_cross, XY_diff)\n",
    "\n",
    "print(f'\"se\" in X: {\"se\" in X}')\n",
    "print(f'\"se\" in Y: {\"se\" in Y}')\n"
   ]
  },
  {
   "cell_type": "code",
   "execution_count": null,
   "metadata": {},
   "outputs": [
    {
     "data": {
      "text/plain": [
       "'12時の気温は22.4'"
      ]
     },
     "execution_count": 14,
     "metadata": {},
     "output_type": "execute_result"
    }
   ],
   "source": [
    "# 07\n",
    "def f(x, y, z) -> str:\n",
    "    return str.format(\"{}時の{}は{}\", x, y, z)\n",
    "\n",
    "\n",
    "f(x=12, y=\"気温\", z=22.4)"
   ]
  },
  {
   "cell_type": "code",
   "execution_count": null,
   "metadata": {},
   "outputs": [
    {
     "data": {
      "text/plain": [
       "('Hvool, Wliow!!', 'Hello, World!!')"
      ]
     },
     "execution_count": 20,
     "metadata": {},
     "output_type": "execute_result"
    }
   ],
   "source": [
    "# 08\n",
    "def ciper(text: str) -> str:\n",
    "    ret = \"\"\n",
    "    for c in text:\n",
    "        if c.islower():\n",
    "            ret += chr(219 - ord(c))\n",
    "        else:\n",
    "            ret += c\n",
    "    return ret\n",
    "\n",
    "\n",
    "ciper(\"Hello, World!!\"), ciper(ciper(\"Hello, World!!\"))"
   ]
  },
  {
   "cell_type": "code",
   "execution_count": null,
   "metadata": {},
   "outputs": [
    {
     "data": {
      "text/plain": [
       "'I codnlu’t bievele that I cuold altcaluy uertndasnd what I was rndeiag : the pennmoahel pwoer of the haumn mind .'"
      ]
     },
     "execution_count": 33,
     "metadata": {},
     "output_type": "execute_result"
    }
   ],
   "source": [
    "# 09\n",
    "import random\n",
    "\n",
    "\n",
    "def f(word: str) -> str:\n",
    "    \"\"\"\n",
    "    単語の先頭と末尾の文字は残し，それ以外の文字の順序をランダムに並び替える．\n",
    "    ただし，長さが４以下の単語は並び替えない．\n",
    "    \"\"\"\n",
    "    if len(word) <= 4:\n",
    "        return word\n",
    "\n",
    "    ret = word[0]\n",
    "    ret += \"\".join(random.sample(word[1:-1], len(word[1:-1])))\n",
    "    ret += word[-1]\n",
    "    return ret\n",
    "\n",
    "\n",
    "s = \"I couldn’t believe that I could actually understand what I was reading : the phenomenal power of the human mind .\"\n",
    "word_list = s.split(\" \")\n",
    "\n",
    "\" \".join([f(w) for w in word_list])"
   ]
  }
 ],
 "metadata": {
  "kernelspec": {
   "display_name": ".venv",
   "language": "python",
   "name": "python3"
  },
  "language_info": {
   "codemirror_mode": {
    "name": "ipython",
    "version": 3
   },
   "file_extension": ".py",
   "mimetype": "text/x-python",
   "name": "python",
   "nbconvert_exporter": "python",
   "pygments_lexer": "ipython3",
   "version": "3.13.0"
  }
 },
 "nbformat": 4,
 "nbformat_minor": 2
}
